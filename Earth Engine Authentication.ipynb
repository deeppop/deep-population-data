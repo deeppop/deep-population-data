{
 "cells": [
  {
   "cell_type": "markdown",
   "metadata": {},
   "source": [
    "Code required to authenticate with Earth Engine, originally taken from: https://github.com/google/earthengine-api/blob/master/python/examples/ipynb/authorize_notebook_server.ipynb"
   ]
  },
  {
   "cell_type": "code",
   "execution_count": 1,
   "metadata": {},
   "outputs": [
    {
     "name": "stdout",
     "output_type": "stream",
     "text": [
      "The IPython Widgets library (version 7.1.1) is available on this server.\n"
     ]
    }
   ],
   "source": [
    "# Code to check the IPython Widgets library.\n",
    "try:\n",
    "    import ipywidgets\n",
    "except ImportError:\n",
    "    print('The IPython Widgets library is not available on this server.\\n'\n",
    "                'Please see https://github.com/jupyter-widgets/ipywidgets '\n",
    "                'for information on installing the library.')\n",
    "    raise\n",
    "print('The IPython Widgets library (version {0}) is available on this server.'.format(\n",
    "    ipywidgets.__version__\n",
    "))"
   ]
  },
  {
   "cell_type": "code",
   "execution_count": 2,
   "metadata": {},
   "outputs": [
    {
     "name": "stdout",
     "output_type": "stream",
     "text": [
      "The Earth Engine Python API (version 0.1.137) is available on this server.\n"
     ]
    }
   ],
   "source": [
    "# Code to check the Earth Engine API library.\n",
    "try:\n",
    "    import ee\n",
    "except ImportError:\n",
    "    print('The Earth Engine Python API library is not available on this server.\\n'\n",
    "                'Please see https://developers.google.com/earth-engine/python_install '\n",
    "                'for information on installing the library.')\n",
    "    raise\n",
    "print('The Earth Engine Python API (version {0}) is available on this server.'.format(\n",
    "    ee.__version__\n",
    "))"
   ]
  },
  {
   "cell_type": "code",
   "execution_count": 3,
   "metadata": {},
   "outputs": [
    {
     "data": {
      "application/vnd.jupyter.widget-view+json": {
       "model_id": "1917b980d93d49ffa462d378008abd31",
       "version_major": 2,
       "version_minor": 0
      },
      "text/html": [
       "<p>Failed to display Jupyter Widget of type <code>VBox</code>.</p>\n",
       "<p>\n",
       "  If you're reading this message in the Jupyter Notebook or JupyterLab Notebook, it may mean\n",
       "  that the widgets JavaScript is still loading. If this message persists, it\n",
       "  likely means that the widgets JavaScript library is either not installed or\n",
       "  not enabled. See the <a href=\"https://ipywidgets.readthedocs.io/en/stable/user_install.html\">Jupyter\n",
       "  Widgets Documentation</a> for setup instructions.\n",
       "</p>\n",
       "<p>\n",
       "  If you're reading this message in another frontend (for example, a static\n",
       "  rendering on GitHub or <a href=\"https://nbviewer.jupyter.org/\">NBViewer</a>),\n",
       "  it may mean that your frontend doesn't currently support widgets.\n",
       "</p>\n"
      ],
      "text/plain": [
       "VBox(children=(Button(button_style='success', description='The server is authorized to access Earth Engine', disabled=True, icon='check', layout=Layout(align_items='center', flex_flow='column nowrap', width='100%'), style=ButtonStyle()), Button(description='Click here to revoke authorization', layout=Layout(align_items='center', flex_flow='row nowrap', width='100%'), style=ButtonStyle()), VBox(children=(HTML(value=''),), layout=Layout(align_items='center', flex_flow='row nowrap', width='100%'))), layout=Layout(align_items='center', flex_flow='column nowrap', width='100%'))"
      ]
     },
     "metadata": {},
     "output_type": "display_data"
    }
   ],
   "source": [
    "# Code to check if authorized to access Earth Engine.\n",
    "import io\n",
    "import os\n",
    "import urllib\n",
    "from IPython import display\n",
    "\n",
    "# Define layouts used by the form.\n",
    "row_wide_layout = ipywidgets.Layout(flex_flow=\"row nowrap\", align_items=\"center\", width=\"100%\")\n",
    "column_wide_layout = ipywidgets.Layout(flex_flow=\"column nowrap\", align_items=\"center\", width=\"100%\")\n",
    "column_auto_layout = ipywidgets.Layout(flex_flow=\"column nowrap\", align_items=\"center\", width=\"auto\")\n",
    "\n",
    "form_definition = {'form': None}\n",
    "response_box = ipywidgets.HTML('')\n",
    "\n",
    "def isAuthorized():\n",
    "    try:\n",
    "        ee.Initialize()\n",
    "        test = ee.Image(0).getInfo()\n",
    "    except:\n",
    "        return False\n",
    "    return True\n",
    "\n",
    "def ShowForm(auth_status_button, instructions):\n",
    "    \"\"\"Show a form to the user.\"\"\"\n",
    "    form_definition['form'] = ipywidgets.VBox([\n",
    "        auth_status_button,\n",
    "        instructions,\n",
    "        ipywidgets.VBox([response_box], layout=row_wide_layout)\n",
    "    ], layout=column_wide_layout)\n",
    "    display.display(form_definition.get('form'))\n",
    "\n",
    "def ShowAuthorizedForm():\n",
    "    \"\"\"Show a form for a server that is currently authorized to access Earth Engine.\"\"\"\n",
    "    def revoke_credentials(sender):\n",
    "        credentials = ee.oauth.get_credentials_path()\n",
    "        if os.path.exists(credentials):\n",
    "            os.remove(credentials)\n",
    "        response_box.value = ''\n",
    "        Init()\n",
    "    \n",
    "    auth_status_button = ipywidgets.Button(\n",
    "        layout=column_wide_layout,\n",
    "        disabled=True,\n",
    "        description='The server is authorized to access Earth Engine',\n",
    "        button_style='success',\n",
    "        icon='check'\n",
    "    )\n",
    "    \n",
    "    instructions = ipywidgets.Button(\n",
    "        layout = row_wide_layout,\n",
    "        description = 'Click here to revoke authorization',\n",
    "        disabled = False,\n",
    "    )\n",
    "    instructions.on_click(revoke_credentials)\n",
    "    \n",
    "    ShowForm(auth_status_button, instructions)\n",
    "\n",
    "def ShowUnauthorizedForm():\n",
    "    \"\"\"Show a form for a server that is not currently authorized to access Earth Engine.\"\"\"\n",
    "    def save_credentials(sender):\n",
    "        try:\n",
    "            # Save the credentials text, and clear the textbox.\n",
    "            textbox_value = get_auth_textbox.value\n",
    "            get_auth_textbox.value = ''\n",
    "            \n",
    "            token = ee.oauth.request_token(textbox_value.strip())\n",
    "            ee.oauth.write_token(token)\n",
    "            if isAuthorized():\n",
    "                response_box.value = ''\n",
    "                Init()\n",
    "            else:\n",
    "                response_box.value = '<font color=\"red\">{0}</font>'.format(\n",
    "                    'The account was authenticated, but does not have permission to access Earth Engine.'\n",
    "                )\n",
    "        except Exception as e:\n",
    "            response_box.value = '<font color=\"red\">{0}</font>'.format(e)\n",
    "    \n",
    "    get_auth_textbox = ipywidgets.Text(\n",
    "        placeholder='Paste authorization code here',\n",
    "        description='Authentication Code:',\n",
    "    )\n",
    "    get_auth_textbox.on_submit(save_credentials)\n",
    "\n",
    "    auth_status_button = ipywidgets.Button(\n",
    "        layout=column_wide_layout,\n",
    "        button_style='danger',\n",
    "        description='The server is not authorized to access Earth Engine',\n",
    "        disabled=True\n",
    "    )\n",
    "        \n",
    "    auth_link = ipywidgets.HTML(\n",
    "        '<a href=\"{url}\" target=\"auth\">Open Authentication Tab</a><br/>'\n",
    "        .format(url=ee.oauth.get_authorization_url()\n",
    "        )\n",
    "    )\n",
    "        \n",
    "    instructions = ipywidgets.VBox(\n",
    "        [\n",
    "            ipywidgets.HTML(\n",
    "                'Click on the link below to start the authentication and authorization process. '\n",
    "                'Once you have received an authorization code, paste it in the box below and press return.'\n",
    "            ),\n",
    "            auth_link,\n",
    "            get_auth_textbox\n",
    "        ],\n",
    "        layout=column_auto_layout\n",
    "    )\n",
    "    \n",
    "    ShowForm(auth_status_button, instructions)\n",
    "    \n",
    "def Init():\n",
    "    # If a form is currently displayed, close it.\n",
    "    if form_definition.get('form'):\n",
    "        form_definition['form'].close()\n",
    "    # Display the appropriate form according to whether the server is authorized.\n",
    "    if isAuthorized():\n",
    "        ShowAuthorizedForm()\n",
    "    else:\n",
    "        ShowUnauthorizedForm()\n",
    "        \n",
    "Init()"
   ]
  },
  {
   "cell_type": "code",
   "execution_count": null,
   "metadata": {
    "collapsed": true
   },
   "outputs": [],
   "source": []
  }
 ],
 "metadata": {
  "kernelspec": {
   "display_name": "Python 3",
   "language": "python",
   "name": "python3"
  },
  "language_info": {
   "codemirror_mode": {
    "name": "ipython",
    "version": 3
   },
   "file_extension": ".py",
   "mimetype": "text/x-python",
   "name": "python",
   "nbconvert_exporter": "python",
   "pygments_lexer": "ipython3",
   "version": "3.6.4"
  },
  "widgets": {
   "state": {
    "3b95629d4f7849ee8f6935af053d7771": {
     "views": [
      {
       "cell_index": 2
      }
     ]
    }
   },
   "version": "1.2.0"
  }
 },
 "nbformat": 4,
 "nbformat_minor": 1
}
