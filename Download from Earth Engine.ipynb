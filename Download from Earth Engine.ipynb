{
 "cells": [
  {
   "cell_type": "markdown",
   "metadata": {},
   "source": [
    "Note: to run this file via a Jupyter notebook, you must first authenticate the Google Earth Engine code with the `Earth Engine Authentication.ipynb` file. Run all the code in that file, it will ask you to authenticate with your Google account, then you can run this file."
   ]
  },
  {
   "cell_type": "code",
   "execution_count": 1,
   "metadata": {
    "collapsed": true
   },
   "outputs": [],
   "source": [
    "import time\n",
    "import subprocess\n",
    "\n",
    "import numpy as np\n",
    "\n",
    "import rasterio\n",
    "\n",
    "import ee\n",
    "import ee.batch\n",
    "\n",
    "from IPython.display import Image\n",
    "from IPython.core.display import HTML\n",
    "\n",
    "ee.Initialize() # needed for google earth engine"
   ]
  },
  {
   "cell_type": "markdown",
   "metadata": {},
   "source": [
    "## Misc"
   ]
  },
  {
   "cell_type": "code",
   "execution_count": 2,
   "metadata": {
    "collapsed": true
   },
   "outputs": [],
   "source": [
    "def get_bounding_box(left, bottom, right, top):\n",
    "    '''Makes a 'region' that Google Earth Engine understands'''  \n",
    "    bb = [\n",
    "        [left, top],\n",
    "        [left, bottom],\n",
    "        [right, bottom],\n",
    "        [right, top]\n",
    "    ]\n",
    "    return bb"
   ]
  },
  {
   "cell_type": "code",
   "execution_count": 3,
   "metadata": {
    "collapsed": true
   },
   "outputs": [],
   "source": [
    "# bounding box for the US - calculated from the 20m TIGER Line Cartographic Boundary shapefiles +0.5 degree buffer\n",
    "left, bottom, right, top = -125.225839, 23.998131, -66.449895, 49.884358"
   ]
  },
  {
   "cell_type": "code",
   "execution_count": 4,
   "metadata": {
    "collapsed": true
   },
   "outputs": [],
   "source": [
    "usa_bounding_region = get_bounding_box(left, bottom, right, top)"
   ]
  },
  {
   "cell_type": "markdown",
   "metadata": {},
   "source": [
    "## Download data\n",
    "\n",
    "Here is where the magic happens..."
   ]
  },
  {
   "cell_type": "code",
   "execution_count": 5,
   "metadata": {
    "collapsed": true
   },
   "outputs": [],
   "source": [
    "l8sr = ee.ImageCollection('LANDSAT/LC08/C01/T1_SR'); # select an image collection, here we use Landsat 8 surface reflectance"
   ]
  },
  {
   "cell_type": "code",
   "execution_count": 6,
   "metadata": {
    "collapsed": true
   },
   "outputs": [],
   "source": [
    "def mask_and_convert(image):\n",
    "    '''Taken from the Landsat8 Surface Reflectance example on the code editor in Earth Explorer\n",
    "    \n",
    "    This method will mask out pixels that the Landsat 8 QA bands think are clouds.\n",
    "    Note:\n",
    "        this is __different__ from CLOUD_COVER as here we are filtering out pixels instead of entire images\n",
    "    '''\n",
    "    cloudShadowBitMask = ee.Number(2).pow(3).int()\n",
    "    cloudsBitMask = ee.Number(2).pow(5).int()\n",
    "\n",
    "    qa = image.select('pixel_qa');\n",
    "    mask = qa.bitwiseAnd(cloudShadowBitMask).eq(0) and qa.bitwiseAnd(cloudsBitMask).eq(0)\n",
    "    \n",
    "    return image.updateMask(mask);"
   ]
  },
  {
   "cell_type": "code",
   "execution_count": 7,
   "metadata": {
    "collapsed": true
   },
   "outputs": [],
   "source": [
    "'''Code for customizing which images we want to take the median of.\n",
    "\n",
    "In each case we start with the _entire_ set of Landsat 8 surface reflectance images,\n",
    "`ee.ImageCollection('LANDSAT/LC08/C01/T1_SR')`, then filter on multiple criteria, and finally map the remaining images\n",
    "through the function we defined above. I've broken these collection-->filter-->filter-->map steps down by year in case\n",
    "we want to select images from a different part of each year (e.g. so we can do things like get the median image\n",
    "over all non cloudy images from June in the range 2013-2015). Note: the CLOUD_COVER filter will remove entire images from\n",
    "the collection, as opposed to our mapping function, which will remove pixels.\n",
    "'''\n",
    "\n",
    "CLOUD_COVER = 100\n",
    "MONTH_START = \"01\"\n",
    "MONTH_END = \"12\"\n",
    "DAY_END = \"31\"\n",
    "\n",
    "DO_SECOND_RANGE = False\n",
    "MONTH2_START = \"10\"\n",
    "MONTH2_END = \"12\"\n",
    "DAY2_END = \"31\"\n",
    "\n",
    "\n",
    "image_collection = (ee.ImageCollection('LANDSAT/LC08/C01/T1_SR')\n",
    "                    .filterDate('2013-%s-01' % (MONTH_START), '2013-%s-%s' % (MONTH_END, DAY_END))\n",
    "                    #.filter(ee.Filter.lt('CLOUD_COVER', CLOUD_COVER))\n",
    "                    .map(mask_and_convert)\n",
    "                   )\n",
    "\n",
    "for i in range(2014,2018):\n",
    "    temp_collection = (ee.ImageCollection('LANDSAT/LC08/C01/T1_SR')\n",
    "                       .filterDate(\"%d-%s-01\" % (i, MONTH_START), \"%d-%s-%s\" % (i, MONTH_END, DAY_END))\n",
    "                       #.filter(ee.Filter.lt('CLOUD_COVER', CLOUD_COVER))\n",
    "                       .map(mask_and_convert)\n",
    "                      )\n",
    "    image_collection = image_collection.merge(temp_collection)\n",
    "    \n",
    "if DO_SECOND_RANGE:\n",
    "    print(\"Including second range\")\n",
    "    for i in range(2014,2018):\n",
    "        temp_collection = (ee.ImageCollection('LANDSAT/LC08/C01/T1_SR')\n",
    "                           .filterDate(\"%d-%s-01\" % (i, MONTH2_START), \"%d-%s-%s\" % (i, MONTH2_END, DAY2_END))\n",
    "                           #.filter(ee.Filter.lt('CLOUD_COVER', CLOUD_COVER))\n",
    "                           .map(mask_and_convert)\n",
    "                          )\n",
    "        image_collection = image_collection.merge(temp_collection)\n",
    "\n",
    "image_collection = ee.ImageCollection(image_collection)\n",
    "output_image = image_collection.median()"
   ]
  },
  {
   "cell_type": "code",
   "execution_count": 30,
   "metadata": {},
   "outputs": [
    {
     "name": "stdout",
     "output_type": "stream",
     "text": [
      "[u'B1', u'B2', u'B3', u'B4', u'B5', u'B6_VCID_2', u'B7']\n"
     ]
    }
   ],
   "source": [
    "# which bands are available\n",
    "all_bands = output_image.bandNames().getInfo()\n",
    "print(all_bands)\n",
    "selected_bands = ['B1','B2','B3','B4','B5','B6','B7','B10']"
   ]
  },
  {
   "cell_type": "code",
   "execution_count": 31,
   "metadata": {
    "collapsed": true
   },
   "outputs": [],
   "source": [
    "# we can select which bands we want to be included in our export (this isn't necessary if we want all)\n",
    "output_image = output_image.select(selected_bands)"
   ]
  },
  {
   "cell_type": "code",
   "execution_count": 13,
   "metadata": {
    "collapsed": true
   },
   "outputs": [],
   "source": [
    "thumb_image = output_image.select([\"B4\",\"B3\",\"B2\"])"
   ]
  },
  {
   "cell_type": "code",
   "execution_count": 26,
   "metadata": {},
   "outputs": [
    {
     "data": {
      "text/plain": [
       "u'https://earthengine.googleapis.com/api/thumb?thumbid=67654ca8571230fd8fd3f50d1c3f85f3&token=e448d0d92b420ace58f9bfdda1aec84f'"
      ]
     },
     "execution_count": 26,
     "metadata": {},
     "output_type": "execute_result"
    }
   ],
   "source": [
    "thumb_image.getThumbURL({\n",
    "    \"region\": str(usa_bounding_region),\n",
    "    \"format\": \"png\"\n",
    "})"
   ]
  },
  {
   "cell_type": "code",
   "execution_count": 32,
   "metadata": {
    "collapsed": true
   },
   "outputs": [],
   "source": [
    "'''Here we start download tasks for each (y_step, x_step) sized square in our area of interest. This will\n",
    "result in a grid of satellite image patches covering our entire area. These tasks will show up in the \"Tasks\"\n",
    "tab at https://code.earthengine.google.com/, and when finished, will generate large TIFF files in you Google Drive account.\n",
    "\n",
    "This is a fire and forget process, it creates a bunch of task objects that are running on Google's servers.\n",
    "'''\n",
    "\n",
    "task_list = [] # easy way to keep track of how far our download is\n",
    "\n",
    "# these values should evenly divide 120 in order to have a integer number of 0.0083 x 0.0083 degree pixels in each tile\n",
    "y_step = 60.0 # height of each patch (in degrees)\n",
    "x_step = 60.0 # width of each patch (in degrees)\n",
    "\n",
    "total_patches = 0 # keep track of the total number of patches we've downloaded\n",
    "for y, t_top in enumerate(np.arange(top, bottom, -y_step)):\n",
    "    for x, t_left in enumerate(np.arange(left, right, x_step)):\n",
    "        \n",
    "        t_right = min(t_left+x_step, right)\n",
    "        t_bottom = max(t_top-y_step, bottom)\n",
    "        \n",
    "        task = ee.batch.Export.image.toDrive(\n",
    "            output_image,\n",
    "            \"Export_%d_%d\" % (x,y), # name of this task \n",
    "            \"landsat_2000_2002_large_area_2\", # name of Google Drive folder the results will be stored in, doesn't need to exist\n",
    "            fileNamePrefix=\"Export_%d_%d\" % (x,y),\n",
    "            region=str(get_bounding_box(t_left, t_bottom, t_right, t_top)),\n",
    "            scale=1000, # resolution in meters\n",
    "            crs='EPSG:4269',\n",
    "            maxPixels=1e10,\n",
    "            shardSize=256, # not sure what this does, fileDimension has to be a multiple of this\n",
    "            fileDimensions=16384, # this is the maximum height or width of a file (in pixels), if we request an export that has a height or width that is larger than this, then it will be broken up and will be messy\n",
    "            skipEmptyTiles=True\n",
    "        )\n",
    "        task.start()\n",
    "        task_list.append(task)\n",
    "        total_patches += 1\n",
    "        \n",
    "        time.sleep(1) # chill so Google doesn't get mad at us, polite but maybe unecessary"
   ]
  },
  {
   "cell_type": "code",
   "execution_count": 11,
   "metadata": {},
   "outputs": [
    {
     "name": "stdout",
     "output_type": "stream",
     "text": [
      "Finished 0/18\n"
     ]
    }
   ],
   "source": [
    "# We can run this periodically instead of going to the earth explorer website to see how far along we are \n",
    "\n",
    "num_complete = 0\n",
    "for task in task_list:\n",
    "    if task.active():\n",
    "        pass\n",
    "    else:\n",
    "        num_complete += 1\n",
    "\n",
    "print(\"Finished %d/%d\" % (num_complete, total_patches))"
   ]
  },
  {
   "cell_type": "markdown",
   "metadata": {},
   "source": [
    "## Landsat 7 TOA downloads"
   ]
  },
  {
   "cell_type": "code",
   "execution_count": 16,
   "metadata": {},
   "outputs": [
    {
     "name": "stdout",
     "output_type": "stream",
     "text": [
      "[u'bands', u'version', u'type', u'id', u'properties']\n",
      "LANDSAT/LE7_TOA_3YEAR/2000\n",
      "LANDSAT/LE7_TOA_3YEAR/2000_2002\n",
      "LANDSAT/LE7_TOA_3YEAR/2002\n",
      "LANDSAT/LE7_TOA_3YEAR/2002_2004\n",
      "LANDSAT/LE7_TOA_3YEAR/2004\n",
      "LANDSAT/LE7_TOA_3YEAR/2004_2006\n",
      "LANDSAT/LE7_TOA_3YEAR/2006\n",
      "LANDSAT/LE7_TOA_3YEAR/2006_2008\n",
      "LANDSAT/LE7_TOA_3YEAR/2008\n",
      "LANDSAT/LE7_TOA_3YEAR/2008_2010\n",
      "LANDSAT/LE7_TOA_3YEAR/2010_2012\n",
      "LANDSAT/LE7_TOA_3YEAR/2012_2014\n"
     ]
    }
   ],
   "source": [
    "'''Here we look at all of the possible \"images\" in the Landsat 7 TOA_1YEAR collection.\n",
    "\n",
    "Unlike the Tier 1 Landsat 7/8 imagery collections, this image collection only has a few images - 1 for each year.\n",
    "Now, instead of doing the preprocessing steps like we did before, we can just pick the image we want, and download from that\n",
    "instead.\n",
    "'''\n",
    "L7 = ee.ImageCollection('LANDSAT/LE7_TOA_3YEAR')\n",
    "#L7 = ee.ImageCollection('LANDSAT/LE7_TOA_1YEAR')\n",
    "\n",
    "l7_info = L7.getInfo()\n",
    "\n",
    "print(l7_info[\"features\"][0].keys()) # interesting things to look at\n",
    "for feature in l7_info[\"features\"]:\n",
    "    print(feature[\"id\"])"
   ]
  },
  {
   "cell_type": "code",
   "execution_count": 29,
   "metadata": {
    "collapsed": true
   },
   "outputs": [],
   "source": [
    "# now we can use this `output_image` in the `ee.batch.Export.image.toDrive` function\n",
    "\n",
    "output_image = ee.Image(\"LANDSAT/LE7_TOA_3YEAR/2000_2002\")\n",
    "#output_image = ee.Image(\"LANDSAT/LE7_TOA_1YEAR/2010\")\n",
    "#output_image = ee.Image(\"LANDSAT/LE7_TOA_1YEAR/2013\")"
   ]
  },
  {
   "cell_type": "code",
   "execution_count": null,
   "metadata": {
    "collapsed": true
   },
   "outputs": [],
   "source": [
    "selected_bands = ['B1','B2','B3','B4','B5','B6_VCID_2','B7']"
   ]
  },
  {
   "cell_type": "code",
   "execution_count": null,
   "metadata": {
    "collapsed": true
   },
   "outputs": [],
   "source": [
    "# we can select which bands we want to be included in our export (this isn't necessary if we want all)\n",
    "output_image = output_image.select(selected_bands)"
   ]
  },
  {
   "cell_type": "code",
   "execution_count": null,
   "metadata": {
    "collapsed": true
   },
   "outputs": [],
   "source": [
    "task = ee.batch.Export.image.toDrive(\n",
    "    output_image,\n",
    "    \"Export_large\" % (x,y), # name of this task \n",
    "    \"landsat_7_large_exports\", # name of Google Drive folder the results will be stored in, doesn't need to exist\n",
    "    fileNamePrefix=\"toa_2000_2002\" % (x,y),\n",
    "    region=str(usa_bounding_region),\n",
    "    scale=1000, # resolution in meters\n",
    "    crs='EPSG:4269',\n",
    "    maxPixels=1e10,\n",
    "    shardSize=256, # not sure what this does, fileDimension has to be a multiple of this\n",
    "    fileDimensions=16384, # this is the maximum height or width of a file (in pixels), if we request an export that has a height or width that is larger than this, then it will be broken up and will be messy\n",
    "    skipEmptyTiles=True\n",
    ")\n",
    "task.start()"
   ]
  }
 ],
 "metadata": {
  "kernelspec": {
   "display_name": "Python 2",
   "language": "python",
   "name": "python2"
  },
  "language_info": {
   "codemirror_mode": {
    "name": "ipython",
    "version": 2
   },
   "file_extension": ".py",
   "mimetype": "text/x-python",
   "name": "python",
   "nbconvert_exporter": "python",
   "pygments_lexer": "ipython2",
   "version": "2.7.13"
  }
 },
 "nbformat": 4,
 "nbformat_minor": 1
}
