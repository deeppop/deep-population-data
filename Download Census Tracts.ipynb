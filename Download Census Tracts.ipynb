{
 "cells": [
  {
   "cell_type": "markdown",
   "metadata": {},
   "source": [
    "# Download Census Tracts\n",
    "\n",
    "In this notebook we download the census tract shapefiles for each state, then merge them all together with ogr2ogr. We perform this process for both the 2000 and 2010 census tract definitions to create 2 \"master\" census tract shapefiles that are used in later scripts.\n",
    "\n",
    "This notebook uses `boundary_shapefiles/counties/tl_2010_us_county10.shp` as an input and creates `boundary_shapefiles/census_tracts/tl_2010_all_tract00.shp` and `boundary_shapefiles/census_tracts/tl_2010_all_tract10.shp`."
   ]
  },
  {
   "cell_type": "code",
   "execution_count": 1,
   "metadata": {},
   "outputs": [],
   "source": [
    "import os\n",
    "import subprocess\n",
    "import fiona"
   ]
  },
  {
   "cell_type": "code",
   "execution_count": 2,
   "metadata": {},
   "outputs": [],
   "source": [
    "# create the directories that we will use in this notebook\n",
    "dirs = [\n",
    "    \"boundary_shapefiles/census_tracts/zips/\",\n",
    "    \"boundary_shapefiles/census_tracts/single_2000/\",\n",
    "    \"boundary_shapefiles/census_tracts/single_2010/\"\n",
    "]\n",
    "for path in dirs:\n",
    "    if not os.path.exists(path):\n",
    "        os.makedirs(path)"
   ]
  },
  {
   "cell_type": "code",
   "execution_count": 4,
   "metadata": {},
   "outputs": [],
   "source": [
    "# use the 2010 county boundary shapefile to get the 2 digit state codes for all states (we need these to get the URLs for\n",
    "# the census tracts for each state)\n",
    "f = fiona.open(\"boundary_shapefiles/counties/tl_2010_us_county10.shp\",\"r\")\n",
    "state_ids = set()\n",
    "for shape in f:\n",
    "    state_ids.add(shape[\"properties\"][\"STATEFP10\"])\n",
    "f.close()"
   ]
  },
  {
   "cell_type": "markdown",
   "metadata": {},
   "source": [
    "## Download/Merge 2010 Tracts\n",
    "\n",
    "Download and merge all the 2010 tract definitions."
   ]
  },
  {
   "cell_type": "code",
   "execution_count": 5,
   "metadata": {},
   "outputs": [],
   "source": [
    "# download per-state census tract files\n",
    "for state_id in state_ids:\n",
    "    subprocess.call([\n",
    "        \"wget\",\n",
    "        \"--directory-prefix=boundary_shapefiles/census_tracts/zips\",\n",
    "        \"https://www2.census.gov/geo/tiger/TIGER2010/TRACT/2010/tl_2010_%s_tract10.zip\" % (state_id)\n",
    "    ])"
   ]
  },
  {
   "cell_type": "code",
   "execution_count": 6,
   "metadata": {},
   "outputs": [],
   "source": [
    "# make sure that we were actually able to download each file (maybe we could check the return code from wget instead?) \n",
    "for state_id in state_ids:\n",
    "    assert os.path.exists(\"boundary_shapefiles/census_tracts/zips/tl_2010_%s_tract10.zip\" % (state_id))"
   ]
  },
  {
   "cell_type": "code",
   "execution_count": 7,
   "metadata": {},
   "outputs": [],
   "source": [
    "# unzip each downloaded files\n",
    "for state_id in state_ids:\n",
    "    subprocess.call([\n",
    "        \"unzip\",\n",
    "        os.path.join(\"boundary_shapefiles/census_tracts/zips/\", \"tl_2010_%s_tract10.zip\" % (state_id)),\n",
    "        \"-d\", \"boundary_shapefiles/census_tracts/single_2010/\"\n",
    "    ])"
   ]
  },
  {
   "cell_type": "code",
   "execution_count": 8,
   "metadata": {},
   "outputs": [],
   "source": [
    "# use ogr2ogr to merge all of the individual shapefiles\n",
    "# I'm pretty sure that all of these will be in the epsg:4269 coordinate system\n",
    "for state_id in state_ids:\n",
    "    subprocess.call([\n",
    "        \"ogr2ogr\",\n",
    "        \"-f\", \"ESRI Shapefile\",\n",
    "        \"-update\",\n",
    "        \"-append\",\n",
    "        \"boundary_shapefiles/census_tracts\",\n",
    "        os.path.join(\"boundary_shapefiles/census_tracts/single_2010/\", \"tl_2010_%s_tract10.shp\" % (state_id)),\n",
    "        \"-nln\", \"tl_2010_all_tract10\"\n",
    "    ])"
   ]
  },
  {
   "cell_type": "markdown",
   "metadata": {},
   "source": [
    "## Download/Merge 2000 Tracts\n",
    "\n",
    "Repeating the above steps for the 2000 tract definitions."
   ]
  },
  {
   "cell_type": "code",
   "execution_count": 9,
   "metadata": {},
   "outputs": [],
   "source": [
    "for state_id in state_ids:\n",
    "    subprocess.call([\n",
    "        \"wget\",\n",
    "        \"--directory-prefix=boundary_shapefiles/census_tracts/zips\",\n",
    "        \"https://www2.census.gov/geo/tiger/TIGER2010/TRACT/2000/tl_2010_%s_tract00.zip\" % (state_id)\n",
    "    ])"
   ]
  },
  {
   "cell_type": "code",
   "execution_count": 10,
   "metadata": {},
   "outputs": [],
   "source": [
    "for state_id in state_ids:\n",
    "    assert os.path.exists(\"boundary_shapefiles/census_tracts/zips/tl_2010_%s_tract00.zip\" % (state_id))"
   ]
  },
  {
   "cell_type": "code",
   "execution_count": 11,
   "metadata": {},
   "outputs": [],
   "source": [
    "for state_id in state_ids:\n",
    "    subprocess.call([\n",
    "        \"unzip\",\n",
    "        os.path.join(\"boundary_shapefiles/census_tracts/zips/\", \"tl_2010_%s_tract00.zip\" % (state_id)),\n",
    "        \"-d\", \"boundary_shapefiles/census_tracts/single_2000/\"\n",
    "    ])"
   ]
  },
  {
   "cell_type": "code",
   "execution_count": 12,
   "metadata": {},
   "outputs": [],
   "source": [
    "for state_id in state_ids:\n",
    "    subprocess.call([\n",
    "        \"ogr2ogr\",\n",
    "        \"-f\", \"ESRI Shapefile\",\n",
    "        \"-update\",\n",
    "        \"-append\",\n",
    "        \"boundary_shapefiles/census_tracts\",\n",
    "        os.path.join(\"boundary_shapefiles/census_tracts/single_2000/\", \"tl_2010_%s_tract00.shp\" % (state_id)),\n",
    "        \"-nln\", \"tl_2010_all_tract00\"\n",
    "    ])"
   ]
  }
 ],
 "metadata": {
  "kernelspec": {
   "display_name": "Python 3",
   "language": "python",
   "name": "python3"
  },
  "language_info": {
   "codemirror_mode": {
    "name": "ipython",
    "version": 3
   },
   "file_extension": ".py",
   "mimetype": "text/x-python",
   "name": "python",
   "nbconvert_exporter": "python",
   "pygments_lexer": "ipython3",
   "version": "3.5.2"
  }
 },
 "nbformat": 4,
 "nbformat_minor": 2
}
