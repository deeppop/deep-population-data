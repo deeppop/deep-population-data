{
 "cells": [
  {
   "cell_type": "markdown",
   "metadata": {},
   "source": [
    "# Disaggregate Shapefile\n",
    "\n",
    "Disaggregates a shapefile column over a raster grid using the `intersection_map.p` file created by `create_shapefile_raster_intersection_file_parallel.py`."
   ]
  },
  {
   "cell_type": "code",
   "execution_count": 2,
   "metadata": {},
   "outputs": [],
   "source": [
    "import rasterio\n",
    "import fiona\n",
    "import rtree\n",
    "from shapely.geometry import shape, Polygon\n",
    "\n",
    "import cPickle as pickle\n",
    "\n",
    "from collections import defaultdict"
   ]
  },
  {
   "cell_type": "code",
   "execution_count": null,
   "metadata": {
    "collapsed": true
   },
   "outputs": [],
   "source": [
    "input_fn = \"boundary_shapefiles/counties/tl_2010_us_county00_trimmed_epsg4326.shp\""
   ]
  },
  {
   "cell_type": "code",
   "execution_count": null,
   "metadata": {
    "collapsed": true
   },
   "outputs": [],
   "source": [
    "f = rasterio.open(\"lloyd_hires_usa_data/mastergrid_countryarea_1km.tif\", \"r\")\n",
    "output_shape = f.shape\n",
    "output_meta = f.meta.copy()\n",
    "nodata_mask = f.read() != 9471966 # grab all pixels that aren't part of the US\n",
    "f.close()"
   ]
  },
  {
   "cell_type": "code",
   "execution_count": 2,
   "metadata": {
    "collapsed": true
   },
   "outputs": [],
   "source": [
    "intersection_map = pickle.load(open(\"derived_data/county00_intersection_map.p\", \"rb\"))"
   ]
  },
  {
   "cell_type": "code",
   "execution_count": 8,
   "metadata": {},
   "outputs": [
    {
     "name": "stdout",
     "output_type": "stream",
     "text": [
      "0/2984\n",
      "100/2984\n",
      "200/2984\n",
      "300/2984\n",
      "400/2984\n",
      "500/2984\n",
      "600/2984\n",
      "700/2984\n",
      "800/2984\n",
      "900/2984\n",
      "1000/2984\n",
      "1100/2984\n",
      "1200/2984\n",
      "1300/2984\n",
      "1400/2984\n",
      "1500/2984\n",
      "1600/2984\n",
      "1700/2984\n",
      "1800/2984\n",
      "1900/2984\n",
      "2000/2984\n",
      "2100/2984\n",
      "2200/2984\n",
      "2300/2984\n",
      "2400/2984\n",
      "2500/2984\n",
      "2600/2984\n",
      "2700/2984\n",
      "2800/2984\n",
      "2900/2984\n"
     ]
    }
   ],
   "source": [
    "tract_cell_map = defaultdict(list)\n",
    "\n",
    "for y in xrange(output_shape[0]):\n",
    "    if y % 100 == 0:\n",
    "        print(\"%d/%d\" % (y, output_shape[0]))\n",
    "    for x in range(output_shape[1]):\n",
    "        \n",
    "        for k,v in intersection_map[y][x].items():            \n",
    "            tract_cell_map[k].append(((x,y), v))"
   ]
  },
  {
   "cell_type": "code",
   "execution_count": 37,
   "metadata": {},
   "outputs": [
    {
     "name": "stdout",
     "output_type": "stream",
     "text": [
      "0\n",
      "1000\n",
      "2000\n",
      "3000\n"
     ]
    }
   ],
   "source": [
    "data = np.zeros(output_shape, dtype=float)\n",
    "\n",
    "f = fiona.open(input_fn, \"r\")\n",
    "count = 0\n",
    "total_pop = 0.0\n",
    "for entry in f:\n",
    "    \n",
    "    if count % 1000 == 0:\n",
    "        print(count)\n",
    "    \n",
    "    geoid = int(entry[\"properties\"][\"CNTYIDFP00\"])\n",
    "    population = entry[\"properties\"][\"SF1_P00100\"]\n",
    "    total_pop += population\n",
    "        \n",
    "    if len(tract_cell_map[geoid]) > 0:\n",
    "    \n",
    "        coverage = 0.0\n",
    "        for (x,y), percentage in tract_cell_map[geoid]:\n",
    "            coverage += percentage\n",
    "\n",
    "        unit_population = float(population) / coverage\n",
    "\n",
    "        for (x,y), percentage in tract_cell_map[geoid]:\n",
    "            data[y,x] += percentage * unit_population\n",
    "    else:\n",
    "        # no intersection cells\n",
    "        #if population > 0:\n",
    "        #    print(\"Unallocated population, geoid=%s, population=%d\" % (geoid, population))\n",
    "    \n",
    "        pass\n",
    "    \n",
    "    count += 1\n",
    "    \n",
    "f.close()"
   ]
  },
  {
   "cell_type": "code",
   "execution_count": 39,
   "metadata": {},
   "outputs": [
    {
     "data": {
      "text/plain": [
       "279583437.0"
      ]
     },
     "execution_count": 39,
     "metadata": {},
     "output_type": "execute_result"
    }
   ],
   "source": [
    "total_pop"
   ]
  },
  {
   "cell_type": "code",
   "execution_count": 40,
   "metadata": {},
   "outputs": [
    {
     "data": {
      "text/plain": [
       "279583436.99999952"
      ]
     },
     "execution_count": 40,
     "metadata": {},
     "output_type": "execute_result"
    }
   ],
   "source": [
    "data.sum()"
   ]
  },
  {
   "cell_type": "code",
   "execution_count": 41,
   "metadata": {},
   "outputs": [
    {
     "data": {
      "text/plain": [
       "4.76837158203125e-07"
      ]
     },
     "execution_count": 41,
     "metadata": {},
     "output_type": "execute_result"
    }
   ],
   "source": [
    "total_pop - data.sum()"
   ]
  },
  {
   "cell_type": "code",
   "execution_count": 42,
   "metadata": {},
   "outputs": [],
   "source": [
    "data[nodata_mask] = -1\n",
    "\n",
    "output_meta[\"dtype\"] = \"float64\"\n",
    "output_meta[\"nodata\"] = -1\n",
    "\n",
    "f = rasterio.open(\"test.tif\", \"w\", **output_meta)\n",
    "f.write(data, 1)\n",
    "f.close()"
   ]
  }
 ],
 "metadata": {
  "kernelspec": {
   "display_name": "Python 2",
   "language": "python",
   "name": "python2"
  },
  "language_info": {
   "codemirror_mode": {
    "name": "ipython",
    "version": 2
   },
   "file_extension": ".py",
   "mimetype": "text/x-python",
   "name": "python",
   "nbconvert_exporter": "python",
   "pygments_lexer": "ipython2",
   "version": "2.7.12"
  }
 },
 "nbformat": 4,
 "nbformat_minor": 2
}
